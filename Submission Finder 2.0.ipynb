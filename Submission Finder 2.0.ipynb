{
 "cells": [
  {
   "cell_type": "code",
   "execution_count": 1,
   "metadata": {},
   "outputs": [],
   "source": [
    "import openpyxl as xl\n",
    "import pprint as pp"
   ]
  },
  {
   "cell_type": "code",
   "execution_count": 2,
   "metadata": {},
   "outputs": [],
   "source": [
    "#Load xlsx file into Python\n",
    "wb = xl.load_workbook('Merged_List.xlsx') #Open Input workbook\n",
    "journals = wb['journal_sheet'] #Open journals worksheet\n",
    "urls = wb[\"url_sheet\"]\n",
    "num_rows = len(tuple(journals.rows))\n",
    "\n",
    "#journal_sheet column map\n",
    "#Col 0/A = journal name\n",
    "#Col 1/B = Publisher\n",
    "#Col 2/C = ISSN\n",
    "#Col 3/D = EISSN\n",
    "#Col 4/E = Country\n",
    "#Col 5/F = Language\n",
    "#Col 6/G = Category\n",
    "#Col 7/H = Submission Guidelines URL\n",
    "\n"
   ]
  },
  {
   "cell_type": "code",
   "execution_count": 3,
   "metadata": {},
   "outputs": [],
   "source": [
    "#Iterate through the url sheet to find the submission page URL outlines\n",
    "\n",
    "access_methods = {}\n",
    "publishers = []\n",
    "url_methods = []\n",
    "\n",
    "for row in urls.iter_rows(min_row=2, max_col=8, max_row=15):\n",
    "    publishers.append(row[0].value)\n",
    "    url_methods.append(row[7].value) \n",
    "    \n",
    "access_methods = dict(zip(publishers,url_methods))"
   ]
  },
  {
   "cell_type": "code",
   "execution_count": 4,
   "metadata": {},
   "outputs": [],
   "source": [
    "#Iterate through journals and replace None Values with empty strings\n",
    "for row in journals.iter_rows(min_row=2, max_col=7, max_row=num_rows):\n",
    "    for col in row:\n",
    "        if col.value == None:\n",
    "            col.value = \"\"\n"
   ]
  },
  {
   "cell_type": "code",
   "execution_count": 5,
   "metadata": {},
   "outputs": [],
   "source": [
    "def get_url(row, source):\n",
    "    #Alias varibles for readability\n",
    "    \n",
    "    journal = row[0]\n",
    "    publisher = row[1]\n",
    "    issn = row[2]\n",
    "    eissn = row[3]\n",
    "    target = row[7]\n",
    "    \n",
    "    #Check for each attribute in URL and replace with appropriate variable\n",
    "    \n",
    "    if \"J_U_NAME\" in source:\n",
    "        #replace J_U_NAME with lowercase journal name and replace space with an underscore\n",
    "        temp_name = journal.value.lower().replace(\" \",\"_\")\n",
    "        target = source.replace(\"J_U_NAME\", temp_name)\n",
    "        source = target\n",
    "    if \"JNAME\" in source:\n",
    "        #Replace JNAME with lowercase journal name and replace space with hyphen\n",
    "        temp_name = journal.value.lower().replace(\" \", \"-\") \n",
    "        target = source.replace(\"JNAME\",temp_name)\n",
    "        source = target\n",
    "    if \"EISSN\" in source:\n",
    "        #Replace EISSN with actual EISSN, replacing space with hyphen\n",
    "        temp_name = eissn.value.replace(\"-\",\"\")\n",
    "        target = source.replace(\"EISSN\", temp_name)\n",
    "        source = target\n",
    "    if \"E_H_SSN\" in source:\n",
    "        #Replace EISSN with actual EISSN, keeping hyphens\n",
    "        temp_name = eissn.value\n",
    "        target = source.replace(\"E_H_SSN\", temp_name)\n",
    "        source = target\n",
    "    if \"ISSN\" in source:\n",
    "        #Replace ISSN with actual ISSN, replacing space with hyphen\n",
    "        temp_name = issn.value.replace(\"-\",\"\")\n",
    "        target = source.replace(\"ISSN\", temp_name)\n",
    "        source = target\n",
    "    if \"I_H_SSN\" in source:\n",
    "        #Replace ISSN with actual ISSN, keeping hyphens\n",
    "        temp_name = issn.value\n",
    "        target = source.replace(\"I_H_SSN\", temp_name)\n",
    "        source = target\n",
    "    return target"
   ]
  },
  {
   "cell_type": "code",
   "execution_count": 6,
   "metadata": {},
   "outputs": [],
   "source": [
    "#Iterate over all rows, find the URL outline and return the submission outline Page\n",
    "\n",
    "for row in journals.iter_rows(max_col=8, min_row=2, max_row=num_rows):\n",
    "    for key, value in access_methods.items():\n",
    "            if key == row[1].value:\n",
    "                try:\n",
    "                    row[7].value = get_url(row, access_methods[row[1].value])#Pass row and url outline\n",
    "                except:\n",
    "                    continue"
   ]
  },
  {
   "cell_type": "code",
   "execution_count": 7,
   "metadata": {},
   "outputs": [],
   "source": [
    "wb.save('output.xlsx')"
   ]
  },
  {
   "cell_type": "code",
   "execution_count": null,
   "metadata": {},
   "outputs": [],
   "source": []
  }
 ],
 "metadata": {
  "kernelspec": {
   "display_name": "Python 3",
   "language": "python",
   "name": "python3"
  },
  "language_info": {
   "codemirror_mode": {
    "name": "ipython",
    "version": 3
   },
   "file_extension": ".py",
   "mimetype": "text/x-python",
   "name": "python",
   "nbconvert_exporter": "python",
   "pygments_lexer": "ipython3",
   "version": "3.6.5"
  }
 },
 "nbformat": 4,
 "nbformat_minor": 2
}
