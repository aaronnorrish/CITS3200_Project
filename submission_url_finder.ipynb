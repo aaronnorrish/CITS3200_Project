{
 "cells": [
  {
   "cell_type": "markdown",
   "metadata": {},
   "source": [
    "This script will open the merged_list xlsx file and parse the journal names into a lowercase format as well as return the URL to get to the submissions page.\n",
    "\n",
    "TODO: Convert URL to Submission page"
   ]
  },
  {
   "cell_type": "code",
   "execution_count": 210,
   "metadata": {},
   "outputs": [],
   "source": [
    "import pandas as pd\n",
    "import openpyxl as xl\n",
    "import pprint as pp"
   ]
  },
  {
   "cell_type": "code",
   "execution_count": 211,
   "metadata": {},
   "outputs": [],
   "source": [
    "#Load xlsx file into Python\n",
    "wb = xl.load_workbook('Merged_List.xlsx') #Open Input workbook\n",
    "journals = wb['journals'] #Open journals worksheet\n",
    "urls = wb[\"Sheet2\"]"
   ]
  },
  {
   "cell_type": "code",
   "execution_count": 212,
   "metadata": {},
   "outputs": [],
   "source": [
    "#Add URL access method to 'journals' worksheet\n",
    "journals['H1'].value = \"url_method\"\n",
    "\n",
    "access_methods = {}\n",
    "publishers = []\n",
    "url_methods = []\n",
    "\n",
    "for row in urls.iter_rows(min_row=2, max_col=5, max_row=17):\n",
    "    publishers.append(row[0].value)\n",
    "    url_methods.append(row[4].value) \n",
    "    \n",
    "access_methods = dict(zip(publishers,url_methods))"
   ]
  },
  {
   "cell_type": "code",
   "execution_count": 213,
   "metadata": {},
   "outputs": [],
   "source": [
    "#Iterate through publisher names and append url access method. \n",
    "#Then make lowercase + replace spaces with hyphens\n",
    "\n",
    "row_count = 1\n",
    "for row in journals.iter_rows(min_row=2, min_col=2, max_col=2, max_row=5035):#Iterate Publishers\n",
    "    for publisher in row:\n",
    "        if publisher.value in access_methods:#Check dictionary to find URL path\n",
    "            journals['H'+str(row_count)].value = access_methods[publisher.value]\n",
    "            row_count += 1\n",
    "        \n",
    "for row in journals.iter_rows(min_row=1, max_col=1, max_row=5035): #Iterate Journals\n",
    "    for journal in row:\n",
    "        journal.value = journal.value.lower()\n",
    "        journal.value = journal.value.replace(\" \", \"-\")"
   ]
  },
  {
   "cell_type": "markdown",
   "metadata": {},
   "source": [
    "#### "
   ]
  },
  {
   "cell_type": "code",
   "execution_count": 214,
   "metadata": {},
   "outputs": [],
   "source": [
    "wb.save('output.xlsx')"
   ]
  },
  {
   "cell_type": "code",
   "execution_count": null,
   "metadata": {},
   "outputs": [],
   "source": []
  }
 ],
 "metadata": {
  "kernelspec": {
   "display_name": "Python 3",
   "language": "python",
   "name": "python3"
  },
  "language_info": {
   "codemirror_mode": {
    "name": "ipython",
    "version": 3
   },
   "file_extension": ".py",
   "mimetype": "text/x-python",
   "name": "python",
   "nbconvert_exporter": "python",
   "pygments_lexer": "ipython3",
   "version": "3.6.5"
  }
 },
 "nbformat": 4,
 "nbformat_minor": 2
}
